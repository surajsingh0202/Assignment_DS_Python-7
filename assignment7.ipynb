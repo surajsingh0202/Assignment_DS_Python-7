{
 "cells": [
  {
   "cell_type": "code",
   "execution_count": 1,
   "id": "4bf78876-3706-4735-890a-66b37ccbd672",
   "metadata": {},
   "outputs": [
    {
     "data": {
      "text/plain": [
       "'Q1. What is Abstraction in OOps? Explain with an example.\\n'"
      ]
     },
     "execution_count": 1,
     "metadata": {},
     "output_type": "execute_result"
    }
   ],
   "source": [
    "'''Q1. What is Abstraction in OOps? Explain with an example.\n",
    "'''"
   ]
  },
  {
   "cell_type": "code",
   "execution_count": 2,
   "id": "4ffdbc49-0907-4f28-bc43-a49ba6ca8115",
   "metadata": {},
   "outputs": [
    {
     "name": "stdout",
     "output_type": "stream",
     "text": [
      "Brand: Maruti\n",
      "Model: Alto\n",
      "Year: 2022\n",
      "Speed up ...\n",
      "Not having this feature\n"
     ]
    }
   ],
   "source": [
    "'''Q1 Abstraction, in the context of OOP, refers to \n",
    "the ability to hide complex implementation details and show only the necessary features of an object.\n",
    "This simplifies the interaction with objects, \n",
    "making programming more intuitive and efficient'''\n",
    "\n",
    "# Import required modules\n",
    "from abc import ABC, abstractmethod\n",
    "\n",
    "# Create Abstract base class\n",
    "class Car(ABC):\n",
    "    def __init__(self, brand, model, year):\n",
    "        self.brand = brand\n",
    "        self.model = model\n",
    "        self.year = year\n",
    "    \n",
    "    # Create abstract method      \n",
    "    @abstractmethod\n",
    "    def printDetails(self):\n",
    "        pass\n",
    "  \n",
    "    # Create concrete method\n",
    "    def accelerate(self):\n",
    "        print(\"Speed up ...\")\n",
    "  \n",
    "    def break_applied(self):\n",
    "        print(\"Car stopped\")\n",
    "\n",
    "# Create a child class\n",
    "class Hatchback(Car):\n",
    "    def printDetails(self):\n",
    "        print(\"Brand:\", self.brand)\n",
    "        print(\"Model:\", self.model)\n",
    "        print(\"Year:\", self.year)\n",
    "  \n",
    "    def sunroof(self):\n",
    "        print(\"Not having this feature\")\n",
    "\n",
    "# Create a child class\n",
    "class Suv(Car):\n",
    "    def printDetails(self):\n",
    "        print(\"Brand:\", self.brand)\n",
    "        print(\"Model:\", self.model)\n",
    "        print(\"Year:\", self.year)\n",
    "  \n",
    "    def sunroof(self):\n",
    "        print(\"Available\")\n",
    "\n",
    "# Create an instance of the Hatchback class\n",
    "car1 = Hatchback(\"Maruti\", \"Alto\", \"2022\")\n",
    "\n",
    "# Call methods\n",
    "car1.printDetails()\n",
    "car1.accelerate()\n",
    "car1.sunroof()"
   ]
  },
  {
   "cell_type": "code",
   "execution_count": 3,
   "id": "fca9a5c1-6a0f-4d25-a61b-896e80daf642",
   "metadata": {},
   "outputs": [
    {
     "data": {
      "text/plain": [
       "'Q2. Differentiate between Abstraction and Encapsulation. Explain with an example.'"
      ]
     },
     "execution_count": 3,
     "metadata": {},
     "output_type": "execute_result"
    }
   ],
   "source": [
    "'''Q2. Differentiate between Abstraction and Encapsulation. Explain with an example.'''"
   ]
  },
  {
   "cell_type": "code",
   "execution_count": 4,
   "id": "05b1e635-8934-40c5-9d42-c68289d09b46",
   "metadata": {},
   "outputs": [
    {
     "data": {
      "text/plain": [
       "\"Q2\\nAbstraction\\n1.It is the process of gaining information.\\n2.The problems in this technique are solved at the interface level\\n3.It helps hide the unwanted details/information.\\n4.It can be implemented using abstract classes and interfaces.\\n5.The complexities of the implementation are hidden using interface and abstract class.\\n6.Abstraction can be performed using objects that are encapsulated within a single module.\\n\\n\\nEncapsulation\\n1.It is a method that helps wrap up data into a single module.\\n2.Problems in encapsulation are solved at the implementation level.\\n3.It helps hide data using a single entity, or using a unit with the help of method that helps protect the information.\\n4.It can be implemented using access modifiers like public, private and protected.\\n5.The data is hidden using methods such as getters and setters.\\n6.Objects in encapsulation don't need to be in abstraction\\n\\n\""
      ]
     },
     "execution_count": 4,
     "metadata": {},
     "output_type": "execute_result"
    }
   ],
   "source": [
    "'''Q2\n",
    "Abstraction\n",
    "1.It is the process of gaining information.\n",
    "2.The problems in this technique are solved at the interface level\n",
    "3.It helps hide the unwanted details/information.\n",
    "4.It can be implemented using abstract classes and interfaces.\n",
    "5.The complexities of the implementation are hidden using interface and abstract class.\n",
    "6.Abstraction can be performed using objects that are encapsulated within a single module.\n",
    "\n",
    "\n",
    "Encapsulation\n",
    "1.It is a method that helps wrap up data into a single module.\n",
    "2.Problems in encapsulation are solved at the implementation level.\n",
    "3.It helps hide data using a single entity, or using a unit with the help of method that helps protect the information.\n",
    "4.It can be implemented using access modifiers like public, private and protected.\n",
    "5.The data is hidden using methods such as getters and setters.\n",
    "6.Objects in encapsulation don't need to be in abstraction\n",
    "\n",
    "'''"
   ]
  },
  {
   "cell_type": "code",
   "execution_count": 5,
   "id": "c9dc7b83-8a23-4d55-bd65-16122ec1299e",
   "metadata": {},
   "outputs": [
    {
     "name": "stdout",
     "output_type": "stream",
     "text": [
      "Buddy says: Woof!\n",
      "Whiskers says: Meow!\n"
     ]
    }
   ],
   "source": [
    "from abc import ABC, abstractmethod\n",
    "\n",
    "class Animal(ABC):\n",
    "    def __init__(self, name):\n",
    "        self._name = name\n",
    "\n",
    "    @abstractmethod\n",
    "    def make_sound(self):\n",
    "        pass\n",
    "\n",
    "    def get_name(self):\n",
    "        return self._name\n",
    "\n",
    "class Dog(Animal):\n",
    "    def make_sound(self):\n",
    "        print(\"Woof!\")\n",
    "\n",
    "class Cat(Animal):\n",
    "    def make_sound(self):\n",
    "        print(\"Meow!\")\n",
    "\n",
    "class Zoo:\n",
    "    def __init__(self):\n",
    "        self._animals = []\n",
    "\n",
    "    def add_animal(self, animal):\n",
    "        self._animals.append(animal)\n",
    "\n",
    "    def show_animals(self):\n",
    "        for animal in self._animals:\n",
    "            print(f\"{animal.get_name()} says: \", end=\"\")\n",
    "            animal.make_sound()\n",
    "\n",
    "# Usage example\n",
    "zoo = Zoo()\n",
    "dog = Dog(\"Buddy\")\n",
    "cat = Cat(\"Whiskers\")\n",
    "\n",
    "zoo.add_animal(dog)\n",
    "zoo.add_animal(cat)\n",
    "\n",
    "zoo.show_animals()"
   ]
  },
  {
   "cell_type": "code",
   "execution_count": 6,
   "id": "58ec3096-7f57-4e1f-bedb-84d7ac4505f3",
   "metadata": {},
   "outputs": [
    {
     "data": {
      "text/plain": [
       "'Q3. What is abc module in python? Why is it used?'"
      ]
     },
     "execution_count": 6,
     "metadata": {},
     "output_type": "execute_result"
    }
   ],
   "source": [
    "'''Q3. What is abc module in python? Why is it used?'''"
   ]
  },
  {
   "cell_type": "code",
   "execution_count": 7,
   "id": "e35f58c6-3f26-4e29-8233-09f5f05ca7c0",
   "metadata": {},
   "outputs": [
    {
     "data": {
      "text/plain": [
       "'\\nThis module provides the infrastructure for defining abstract base classes (ABCs) in Python, \\nas outlined in PEP 3119; see the PEP for why this was added to Python.\\n\\n\\nAdded in version 3.3: Formerly, this module was part of the collections module.\\nThis module provides abstract base classes that can be used to test whether a class provides a particular interface;\\nfor example, whether it is hashable or whether it is a mapping.'"
      ]
     },
     "execution_count": 7,
     "metadata": {},
     "output_type": "execute_result"
    }
   ],
   "source": [
    "'''\n",
    "This module provides the infrastructure for defining abstract base classes (ABCs) in Python, \n",
    "as outlined in PEP 3119; see the PEP for why this was added to Python.\n",
    "\n",
    "\n",
    "Added in version 3.3: Formerly, this module was part of the collections module.\n",
    "This module provides abstract base classes that can be used to test whether a class provides a particular interface;\n",
    "for example, whether it is hashable or whether it is a mapping.'''\n",
    "\n"
   ]
  },
  {
   "cell_type": "code",
   "execution_count": 8,
   "id": "c1876b32-ebaa-4a9c-9801-1695d146ce80",
   "metadata": {},
   "outputs": [
    {
     "data": {
      "text/plain": [
       "'Q4. How can we achieve data abstraction?'"
      ]
     },
     "execution_count": 8,
     "metadata": {},
     "output_type": "execute_result"
    }
   ],
   "source": [
    "'''Q4. How can we achieve data abstraction?'''"
   ]
  },
  {
   "cell_type": "code",
   "execution_count": 9,
   "id": "64fb4ba9-d4f8-4ea7-a383-69ca08052ca5",
   "metadata": {},
   "outputs": [
    {
     "data": {
      "text/plain": [
       "'\\nData abstraction is the process of hiding certain details and showing only essential information to the user.\\nAbstraction can be achieved with either abstract classes or interfaces '"
      ]
     },
     "execution_count": 9,
     "metadata": {},
     "output_type": "execute_result"
    }
   ],
   "source": [
    "'''\n",
    "Data abstraction is the process of hiding certain details and showing only essential information to the user.\n",
    "Abstraction can be achieved with either abstract classes or interfaces '''"
   ]
  },
  {
   "cell_type": "code",
   "execution_count": 10,
   "id": "562cb001-7949-4188-a196-1424a5bda7fc",
   "metadata": {},
   "outputs": [
    {
     "data": {
      "text/plain": [
       "'Q5. Can we create an instance of an abstract class? Explain your answer.'"
      ]
     },
     "execution_count": 10,
     "metadata": {},
     "output_type": "execute_result"
    }
   ],
   "source": [
    "'''Q5. Can we create an instance of an abstract class? Explain your answer.'''"
   ]
  },
  {
   "cell_type": "code",
   "execution_count": null,
   "id": "40031415-5ee6-4c62-a79b-e175726d5d4d",
   "metadata": {},
   "outputs": [],
   "source": [
    "'''Q5\n",
    "Abstract classes cannot be instantiated, but they can be subclassed. When an abstract class is subclassed, \n",
    "the subclass usually provides implementations for all of the abstract methods in its parent class. \n",
    "However, if it does not, then the subclass must also be declared abstract .'''"
   ]
  }
 ],
 "metadata": {
  "kernelspec": {
   "display_name": "Python 3 (ipykernel)",
   "language": "python",
   "name": "python3"
  },
  "language_info": {
   "codemirror_mode": {
    "name": "ipython",
    "version": 3
   },
   "file_extension": ".py",
   "mimetype": "text/x-python",
   "name": "python",
   "nbconvert_exporter": "python",
   "pygments_lexer": "ipython3",
   "version": "3.10.8"
  }
 },
 "nbformat": 4,
 "nbformat_minor": 5
}
